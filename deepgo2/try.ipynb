{
 "cells": [
  {
   "cell_type": "markdown",
   "metadata": {},
   "source": [
    "### 对mf-esm2数据的查看和分析"
   ]
  },
  {
   "cell_type": "code",
   "execution_count": 1,
   "metadata": {},
   "outputs": [],
   "source": [
    "import pandas as pd\n",
    "import torch as th\n",
    "import numpy as np\n",
    "# import dgl\n",
    "\n",
    "\n",
    "def get_data(df, features_dict, terms_dict, features_length, features_column):\n",
    "    \"\"\"\n",
    "    Converts dataframe file with protein information and returns\n",
    "    PyTorch tensors\n",
    "    \"\"\"\n",
    "    data = th.zeros((len(df), features_length), dtype=th.float32)\n",
    "    labels = th.zeros((len(df), len(terms_dict)), dtype=th.float32)\n",
    "    for i, row in enumerate(df.itertuples()):\n",
    "        # Data vector\n",
    "        if features_column == 'esm2':\n",
    "            data[i, :] = th.FloatTensor(row.esm2)\n",
    "        elif features_column == 'interpros':\n",
    "            for feat in row.interpros:\n",
    "                if feat in features_dict:\n",
    "                    data[i, features_dict[feat]]\n",
    "        elif features_column == 'mf_preds':\n",
    "            data[i, :] = th.FloatTensor(row.mf_preds)\n",
    "        elif features_column == 'prop_annotations':\n",
    "            for feat in row.prop_annotations:\n",
    "                if feat in features_dict:\n",
    "                    data[i, features_dict[feat]] = 1\n",
    "        # Labels vector\n",
    "        for go_id in row.prop_annotations:\n",
    "            if go_id in terms_dict:\n",
    "                g_id = terms_dict[go_id]\n",
    "                labels[i, g_id] = 1\n",
    "    return data, labels\n",
    "\n",
    "def load_data(\n",
    "        data_root, ont, terms_file, features_length=2560,\n",
    "        features_column='esm2', test_data_file='test_data.pkl'):\n",
    "    terms_df = pd.read_pickle(terms_file)\n",
    "    terms = terms_df['gos'].values.flatten()\n",
    "    terms_dict = {v: i for i, v in enumerate(terms)}\n",
    "    print('Terms', len(terms))\n",
    "    \n",
    "    ipr_df = pd.read_pickle(f'{data_root}/{ont}/interpros.pkl')\n",
    "    iprs = ipr_df['interpros'].values\n",
    "    iprs_dict = {v:k for k, v in enumerate(iprs)}\n",
    "    if features_column == 'interpros':\n",
    "        features_length = len(iprs_dict)\n",
    "    \n",
    "\n",
    "    train_df = pd.read_pickle(f'{data_root}/{ont}/train_data.pkl')\n",
    "    valid_df = pd.read_pickle(f'{data_root}/{ont}/valid_data.pkl')\n",
    "    test_df = pd.read_pickle(f'{data_root}/{ont}/{test_data_file}')\n",
    "\n",
    "    train_data = get_data(train_df, iprs_dict, terms_dict, features_length, features_column)\n",
    "    valid_data = get_data(valid_df, iprs_dict, terms_dict, features_length, features_column)\n",
    "    test_data = get_data(test_df, iprs_dict, terms_dict, features_length, features_column)\n",
    "\n",
    "    return iprs_dict, terms_dict, train_data, valid_data, test_data, test_df"
   ]
  },
  {
   "cell_type": "code",
   "execution_count": 2,
   "metadata": {},
   "outputs": [],
   "source": [
    "import click as ck\n",
    "import pandas as pd\n",
    "import torch as th\n",
    "import numpy as np\n",
    "from torch import nn\n",
    "from torch.nn import functional as F\n",
    "from torch import optim\n",
    "from torch.optim.lr_scheduler import MultiStepLR\n",
    "from sklearn.metrics import roc_curve, auc, matthews_corrcoef\n",
    "import copy\n",
    "from torch.utils.data import DataLoader, IterableDataset, TensorDataset\n",
    "from itertools import cycle\n",
    "import math\n",
    "from deepgo.torch_utils import FastTensorDataLoader\n",
    "from deepgo.utils import Ontology, propagate_annots\n",
    "from multiprocessing import Pool\n",
    "from functools import partial"
   ]
  },
  {
   "cell_type": "code",
   "execution_count": 3,
   "metadata": {},
   "outputs": [
    {
     "name": "stdout",
     "output_type": "stream",
     "text": [
      "Terms 21356\n"
     ]
    }
   ],
   "source": [
    "data_root = 'data'\n",
    "ont = 'bp'\n",
    "terms_file = f'{data_root}/{ont}/terms.pkl'\n",
    "features_length = 2560\n",
    "features_column = 'esm2'\n",
    "test_data_file = 'test_data.pkl'\n",
    "iprs_dict, terms_dict, train_data, valid_data, test_data, test_df = load_data(\n",
    "        data_root, ont, terms_file, features_length, features_column, test_data_file)"
   ]
  },
  {
   "cell_type": "code",
   "execution_count": 5,
   "metadata": {},
   "outputs": [
    {
     "data": {
      "text/html": [
       "<div>\n",
       "<style scoped>\n",
       "    .dataframe tbody tr th:only-of-type {\n",
       "        vertical-align: middle;\n",
       "    }\n",
       "\n",
       "    .dataframe tbody tr th {\n",
       "        vertical-align: top;\n",
       "    }\n",
       "\n",
       "    .dataframe thead th {\n",
       "        text-align: right;\n",
       "    }\n",
       "</style>\n",
       "<table border=\"1\" class=\"dataframe\">\n",
       "  <thead>\n",
       "    <tr style=\"text-align: right;\">\n",
       "      <th></th>\n",
       "      <th>index</th>\n",
       "      <th>proteins</th>\n",
       "      <th>accessions</th>\n",
       "      <th>genes</th>\n",
       "      <th>sequences</th>\n",
       "      <th>annotations</th>\n",
       "      <th>string_ids</th>\n",
       "      <th>orgs</th>\n",
       "      <th>interpros</th>\n",
       "      <th>exp_annotations</th>\n",
       "      <th>prop_annotations</th>\n",
       "      <th>cafa_target</th>\n",
       "      <th>esm</th>\n",
       "      <th>esm2</th>\n",
       "      <th>mf_preds</th>\n",
       "    </tr>\n",
       "  </thead>\n",
       "  <tbody>\n",
       "    <tr>\n",
       "      <th>58593</th>\n",
       "      <td>430345</td>\n",
       "      <td>RT26_YEAST</td>\n",
       "      <td>P47141; D6VWS0;</td>\n",
       "      <td>853565</td>\n",
       "      <td>MLVFKRGIHVVPKLPNSKALLQNGVPNILSSSGFKTVWFDYQRYLC...</td>\n",
       "      <td>[GO:0005763|IDA, GO:0005739|HDA, GO:0046872|IE...</td>\n",
       "      <td>[4932.YJR101W]</td>\n",
       "      <td>559292</td>\n",
       "      <td>[IPR019832, IPR036324, IPR036314]</td>\n",
       "      <td>[GO:0005763, GO:0005739, GO:0003735, GO:0032543]</td>\n",
       "      <td>[GO:1901566, GO:1901576, GO:0044271, GO:004323...</td>\n",
       "      <td>True</td>\n",
       "      <td>[0.06308255, 0.0822591, -0.024374967, 0.066503...</td>\n",
       "      <td>[-0.05179443, -0.0027887435, -0.06578646, -0.0...</td>\n",
       "      <td>[5.51395669390331e-06, 0.0015262124652508646, ...</td>\n",
       "    </tr>\n",
       "    <tr>\n",
       "      <th>62724</th>\n",
       "      <td>448369</td>\n",
       "      <td>SODF3_ARATH</td>\n",
       "      <td>Q9FMX0; O81240; Q8LCD9;</td>\n",
       "      <td>832395</td>\n",
       "      <td>MSSCVVTTSCFYTISDSSIRLKSPKLLNLSNQQRRRSLRSRGGLKV...</td>\n",
       "      <td>[GO:0009507|IDA, GO:0042644|IDA, GO:0009534|IE...</td>\n",
       "      <td>[3702.AT5G23310.1]</td>\n",
       "      <td>3702</td>\n",
       "      <td>[IPR001189, IPR019833, IPR019832, IPR019831, I...</td>\n",
       "      <td>[GO:0009507, GO:0042644, GO:0042646, GO:000957...</td>\n",
       "      <td>[GO:0005737, GO:0051716, GO:0043227, GO:000030...</td>\n",
       "      <td>True</td>\n",
       "      <td>[-0.09370262, 0.19858178, -0.018441962, 0.0563...</td>\n",
       "      <td>[-0.055271477, -0.022739667, -0.029521158, -0....</td>\n",
       "      <td>[5.719591513297928e-05, 0.008652074378915131, ...</td>\n",
       "    </tr>\n",
       "    <tr>\n",
       "      <th>62741</th>\n",
       "      <td>448515</td>\n",
       "      <td>SODM_CUPMC</td>\n",
       "      <td>P17550; Q5NUZ9; Q93JN0;</td>\n",
       "      <td>60825782</td>\n",
       "      <td>MLYEMKPLGCEPAKLTGLSEKLIFSHYENNYGGAVKRLNAITATLA...</td>\n",
       "      <td>[GO:0046872|IEA, GO:0004784|IDA, GO:0046687|IEA]</td>\n",
       "      <td>[]</td>\n",
       "      <td>266264</td>\n",
       "      <td>[IPR001189, IPR019832, IPR036324, IPR036314]</td>\n",
       "      <td>[GO:0004784]</td>\n",
       "      <td>[GO:0051716, GO:0000305, GO:0019430, GO:001672...</td>\n",
       "      <td>False</td>\n",
       "      <td>[-0.0472369, 0.04435269, -6.680077e-05, 0.0321...</td>\n",
       "      <td>[-0.068125404, -0.08426394, -0.1095703, -0.034...</td>\n",
       "      <td>[2.7134405627293745e-05, 0.012835425324738026,...</td>\n",
       "    </tr>\n",
       "  </tbody>\n",
       "</table>\n",
       "</div>"
      ],
      "text/plain": [
       "        index     proteins               accessions     genes  \\\n",
       "58593  430345   RT26_YEAST          P47141; D6VWS0;    853565   \n",
       "62724  448369  SODF3_ARATH  Q9FMX0; O81240; Q8LCD9;    832395   \n",
       "62741  448515   SODM_CUPMC  P17550; Q5NUZ9; Q93JN0;  60825782   \n",
       "\n",
       "                                               sequences  \\\n",
       "58593  MLVFKRGIHVVPKLPNSKALLQNGVPNILSSSGFKTVWFDYQRYLC...   \n",
       "62724  MSSCVVTTSCFYTISDSSIRLKSPKLLNLSNQQRRRSLRSRGGLKV...   \n",
       "62741  MLYEMKPLGCEPAKLTGLSEKLIFSHYENNYGGAVKRLNAITATLA...   \n",
       "\n",
       "                                             annotations          string_ids  \\\n",
       "58593  [GO:0005763|IDA, GO:0005739|HDA, GO:0046872|IE...      [4932.YJR101W]   \n",
       "62724  [GO:0009507|IDA, GO:0042644|IDA, GO:0009534|IE...  [3702.AT5G23310.1]   \n",
       "62741   [GO:0046872|IEA, GO:0004784|IDA, GO:0046687|IEA]                  []   \n",
       "\n",
       "         orgs                                          interpros  \\\n",
       "58593  559292                  [IPR019832, IPR036324, IPR036314]   \n",
       "62724    3702  [IPR001189, IPR019833, IPR019832, IPR019831, I...   \n",
       "62741  266264       [IPR001189, IPR019832, IPR036324, IPR036314]   \n",
       "\n",
       "                                         exp_annotations  \\\n",
       "58593   [GO:0005763, GO:0005739, GO:0003735, GO:0032543]   \n",
       "62724  [GO:0009507, GO:0042644, GO:0042646, GO:000957...   \n",
       "62741                                       [GO:0004784]   \n",
       "\n",
       "                                        prop_annotations  cafa_target  \\\n",
       "58593  [GO:1901566, GO:1901576, GO:0044271, GO:004323...         True   \n",
       "62724  [GO:0005737, GO:0051716, GO:0043227, GO:000030...         True   \n",
       "62741  [GO:0051716, GO:0000305, GO:0019430, GO:001672...        False   \n",
       "\n",
       "                                                     esm  \\\n",
       "58593  [0.06308255, 0.0822591, -0.024374967, 0.066503...   \n",
       "62724  [-0.09370262, 0.19858178, -0.018441962, 0.0563...   \n",
       "62741  [-0.0472369, 0.04435269, -6.680077e-05, 0.0321...   \n",
       "\n",
       "                                                    esm2  \\\n",
       "58593  [-0.05179443, -0.0027887435, -0.06578646, -0.0...   \n",
       "62724  [-0.055271477, -0.022739667, -0.029521158, -0....   \n",
       "62741  [-0.068125404, -0.08426394, -0.1095703, -0.034...   \n",
       "\n",
       "                                                mf_preds  \n",
       "58593  [5.51395669390331e-06, 0.0015262124652508646, ...  \n",
       "62724  [5.719591513297928e-05, 0.008652074378915131, ...  \n",
       "62741  [2.7134405627293745e-05, 0.012835425324738026,...  "
      ]
     },
     "execution_count": 5,
     "metadata": {},
     "output_type": "execute_result"
    }
   ],
   "source": [
    "test_df.head(3)"
   ]
  },
  {
   "cell_type": "code",
   "execution_count": 6,
   "metadata": {},
   "outputs": [
    {
     "data": {
      "text/plain": [
       "torch.Size([21356])"
      ]
     },
     "execution_count": 6,
     "metadata": {},
     "output_type": "execute_result"
    }
   ],
   "source": [
    "train_feature,labels = train_data\n",
    "labels[0].shape"
   ]
  },
  {
   "cell_type": "code",
   "execution_count": 8,
   "metadata": {},
   "outputs": [
    {
     "name": "stdout",
     "output_type": "stream",
     "text": [
      "Terms 6851\n",
      "Terms 2829\n"
     ]
    }
   ],
   "source": [
    "ont = 'mf'\n",
    "terms_file = f'{data_root}/{ont}/terms.pkl'\n",
    "iprs_dict, terms_dict_mf, train_data, valid_data, test_data, test_df = load_data(\n",
    "        data_root, ont, terms_file, features_length, features_column, test_data_file)\n",
    "ont = 'cc'\n",
    "terms_file = f'{data_root}/{ont}/terms.pkl'\n",
    "iprs_dict, terms_dict_cc, train_data, valid_data, test_data, test_df = load_data(\n",
    "        data_root, ont, terms_file, features_length, features_column, test_data_file)"
   ]
  },
  {
   "cell_type": "code",
   "execution_count": 9,
   "metadata": {},
   "outputs": [
    {
     "name": "stdout",
     "output_type": "stream",
     "text": [
      "terms_dict-bp:\n",
      "GO:0032504 0\n",
      "GO:0048608 1\n",
      "GO:0048856 2\n",
      "the length of terms_dict:  21356\n",
      "terms_dict_mf:\n",
      "GO:0045735 0\n",
      "GO:0097367 1\n",
      "GO:0097159 2\n",
      "the length of terms_dict_mf:  6851\n",
      "terms_dict_cc:\n",
      "GO:0110165 0\n",
      "GO:0033643 1\n",
      "GO:0030430 2\n",
      "the length of terms_dict_cc:  2829\n",
      "the length of train label:  52072\n",
      "the length of train feature:  52072\n"
     ]
    }
   ],
   "source": [
    "print('terms_dict-bp:')\n",
    "for k, v in terms_dict.items():\n",
    "    print(k, v)\n",
    "    if v == 2:\n",
    "        break\n",
    "print(\"the length of terms_dict: \", len(terms_dict))\n",
    "print(\"terms_dict_mf:\")\n",
    "for k, v in terms_dict_mf.items():\n",
    "    print(k, v)\n",
    "    if v == 2:\n",
    "        break\n",
    "print('the length of terms_dict_mf: ', len(terms_dict_mf))\n",
    "print(\"terms_dict_cc:\")\n",
    "for k, v in terms_dict_cc.items():\n",
    "    print(k, v)\n",
    "    if v == 2:\n",
    "        break\n",
    "print('the length of terms_dict_cc: ', len(terms_dict_cc))\n",
    "train_feature,train_lable = train_data\n",
    "print('the length of train label: ', len(train_lable))\n",
    "print('the length of train feature: ', len(train_feature))"
   ]
  },
  {
   "cell_type": "code",
   "execution_count": 11,
   "metadata": {},
   "outputs": [
    {
     "data": {
      "text/plain": [
       "0"
      ]
     },
     "execution_count": 11,
     "metadata": {},
     "output_type": "execute_result"
    }
   ],
   "source": [
    "# 把terms_dict，terms_dict_mf,terms_dict_cc三者的键转换成集合，看是否有重复的term\n",
    "terms_dict_set = set(terms_dict.keys())\n",
    "terms_dict_mf_set = set(terms_dict_mf.keys())\n",
    "terms_dict_cc_set = set(terms_dict_cc.keys())\n",
    "len(terms_dict_set & terms_dict_mf_set)"
   ]
  },
  {
   "cell_type": "markdown",
   "metadata": {},
   "source": [
    "### 特征查看和总结"
   ]
  },
  {
   "cell_type": "code",
   "execution_count": 7,
   "metadata": {},
   "outputs": [
    {
     "name": "stdout",
     "output_type": "stream",
     "text": [
      "iprs_dict:\n",
      "IPR022379 0\n",
      "IPR006044 1\n",
      "IPR006045 2\n",
      "the length of iprs_dict:  26406\n",
      "terms_dict:\n",
      "GO:0032504 0\n",
      "GO:0048608 1\n",
      "GO:0048856 2\n",
      "the length of terms_dict:  21356\n",
      "the shape of train_data:  torch.Size([52584, 2560])\n",
      "valid_data:\n",
      "tensor([[ 0.0195,  0.0484,  0.0353,  ..., -0.0280, -0.1314, -0.0181],\n",
      "        [ 0.0662, -0.0373, -0.0047,  ...,  0.0496,  0.0596, -0.0065],\n",
      "        [ 0.0379, -0.0409, -0.0049,  ..., -0.0007, -0.0422, -0.0101]])\n",
      "the shape of valid_data:  torch.Size([2870, 2560])\n",
      "valid_data_labels:\n",
      "tensor([[0., 0., 0.,  ..., 0., 0., 0.],\n",
      "        [0., 0., 0.,  ..., 0., 0., 0.],\n",
      "        [0., 0., 0.,  ..., 0., 0., 0.]])\n",
      "the shape of valid_data_labels:  torch.Size([2870, 21356])\n",
      "test_data:\n",
      "tensor([[-0.0518, -0.0028, -0.0658,  ...,  0.0699,  0.0365,  0.0777],\n",
      "        [-0.0553, -0.0227, -0.0295,  ...,  0.0328,  0.0206,  0.0156],\n",
      "        [-0.0681, -0.0843, -0.1096,  ...,  0.0600,  0.0646, -0.0385]])\n",
      "the shape of test_data:  torch.Size([3275, 2560])\n",
      "the shape of test_data_labels:  torch.Size([3275, 21356])\n",
      "test_df:\n",
      "test_df-shape:  (3275, 15)\n"
     ]
    },
    {
     "data": {
      "text/html": [
       "<div>\n",
       "<style scoped>\n",
       "    .dataframe tbody tr th:only-of-type {\n",
       "        vertical-align: middle;\n",
       "    }\n",
       "\n",
       "    .dataframe tbody tr th {\n",
       "        vertical-align: top;\n",
       "    }\n",
       "\n",
       "    .dataframe thead th {\n",
       "        text-align: right;\n",
       "    }\n",
       "</style>\n",
       "<table border=\"1\" class=\"dataframe\">\n",
       "  <thead>\n",
       "    <tr style=\"text-align: right;\">\n",
       "      <th></th>\n",
       "      <th>index</th>\n",
       "      <th>proteins</th>\n",
       "      <th>accessions</th>\n",
       "      <th>genes</th>\n",
       "      <th>sequences</th>\n",
       "      <th>annotations</th>\n",
       "      <th>string_ids</th>\n",
       "      <th>orgs</th>\n",
       "      <th>interpros</th>\n",
       "      <th>exp_annotations</th>\n",
       "      <th>prop_annotations</th>\n",
       "      <th>cafa_target</th>\n",
       "      <th>esm</th>\n",
       "      <th>esm2</th>\n",
       "      <th>mf_preds</th>\n",
       "    </tr>\n",
       "  </thead>\n",
       "  <tbody>\n",
       "    <tr>\n",
       "      <th>58593</th>\n",
       "      <td>430345</td>\n",
       "      <td>RT26_YEAST</td>\n",
       "      <td>P47141; D6VWS0;</td>\n",
       "      <td>853565</td>\n",
       "      <td>MLVFKRGIHVVPKLPNSKALLQNGVPNILSSSGFKTVWFDYQRYLC...</td>\n",
       "      <td>[GO:0005763|IDA, GO:0005739|HDA, GO:0046872|IE...</td>\n",
       "      <td>[4932.YJR101W]</td>\n",
       "      <td>559292</td>\n",
       "      <td>[IPR019832, IPR036324, IPR036314]</td>\n",
       "      <td>[GO:0005763, GO:0005739, GO:0003735, GO:0032543]</td>\n",
       "      <td>[GO:1901566, GO:1901576, GO:0044271, GO:004323...</td>\n",
       "      <td>True</td>\n",
       "      <td>[0.06308255, 0.0822591, -0.024374967, 0.066503...</td>\n",
       "      <td>[-0.05179443, -0.0027887435, -0.06578646, -0.0...</td>\n",
       "      <td>[5.51395669390331e-06, 0.0015262124652508646, ...</td>\n",
       "    </tr>\n",
       "    <tr>\n",
       "      <th>62724</th>\n",
       "      <td>448369</td>\n",
       "      <td>SODF3_ARATH</td>\n",
       "      <td>Q9FMX0; O81240; Q8LCD9;</td>\n",
       "      <td>832395</td>\n",
       "      <td>MSSCVVTTSCFYTISDSSIRLKSPKLLNLSNQQRRRSLRSRGGLKV...</td>\n",
       "      <td>[GO:0009507|IDA, GO:0042644|IDA, GO:0009534|IE...</td>\n",
       "      <td>[3702.AT5G23310.1]</td>\n",
       "      <td>3702</td>\n",
       "      <td>[IPR001189, IPR019833, IPR019832, IPR019831, I...</td>\n",
       "      <td>[GO:0009507, GO:0042644, GO:0042646, GO:000957...</td>\n",
       "      <td>[GO:0005737, GO:0051716, GO:0043227, GO:000030...</td>\n",
       "      <td>True</td>\n",
       "      <td>[-0.09370262, 0.19858178, -0.018441962, 0.0563...</td>\n",
       "      <td>[-0.055271477, -0.022739667, -0.029521158, -0....</td>\n",
       "      <td>[5.719591513297928e-05, 0.008652074378915131, ...</td>\n",
       "    </tr>\n",
       "    <tr>\n",
       "      <th>62741</th>\n",
       "      <td>448515</td>\n",
       "      <td>SODM_CUPMC</td>\n",
       "      <td>P17550; Q5NUZ9; Q93JN0;</td>\n",
       "      <td>60825782</td>\n",
       "      <td>MLYEMKPLGCEPAKLTGLSEKLIFSHYENNYGGAVKRLNAITATLA...</td>\n",
       "      <td>[GO:0046872|IEA, GO:0004784|IDA, GO:0046687|IEA]</td>\n",
       "      <td>[]</td>\n",
       "      <td>266264</td>\n",
       "      <td>[IPR001189, IPR019832, IPR036324, IPR036314]</td>\n",
       "      <td>[GO:0004784]</td>\n",
       "      <td>[GO:0051716, GO:0000305, GO:0019430, GO:001672...</td>\n",
       "      <td>False</td>\n",
       "      <td>[-0.0472369, 0.04435269, -6.680077e-05, 0.0321...</td>\n",
       "      <td>[-0.068125404, -0.08426394, -0.1095703, -0.034...</td>\n",
       "      <td>[2.7134405627293745e-05, 0.012835425324738026,...</td>\n",
       "    </tr>\n",
       "  </tbody>\n",
       "</table>\n",
       "</div>"
      ],
      "text/plain": [
       "        index     proteins               accessions     genes  \\\n",
       "58593  430345   RT26_YEAST          P47141; D6VWS0;    853565   \n",
       "62724  448369  SODF3_ARATH  Q9FMX0; O81240; Q8LCD9;    832395   \n",
       "62741  448515   SODM_CUPMC  P17550; Q5NUZ9; Q93JN0;  60825782   \n",
       "\n",
       "                                               sequences  \\\n",
       "58593  MLVFKRGIHVVPKLPNSKALLQNGVPNILSSSGFKTVWFDYQRYLC...   \n",
       "62724  MSSCVVTTSCFYTISDSSIRLKSPKLLNLSNQQRRRSLRSRGGLKV...   \n",
       "62741  MLYEMKPLGCEPAKLTGLSEKLIFSHYENNYGGAVKRLNAITATLA...   \n",
       "\n",
       "                                             annotations          string_ids  \\\n",
       "58593  [GO:0005763|IDA, GO:0005739|HDA, GO:0046872|IE...      [4932.YJR101W]   \n",
       "62724  [GO:0009507|IDA, GO:0042644|IDA, GO:0009534|IE...  [3702.AT5G23310.1]   \n",
       "62741   [GO:0046872|IEA, GO:0004784|IDA, GO:0046687|IEA]                  []   \n",
       "\n",
       "         orgs                                          interpros  \\\n",
       "58593  559292                  [IPR019832, IPR036324, IPR036314]   \n",
       "62724    3702  [IPR001189, IPR019833, IPR019832, IPR019831, I...   \n",
       "62741  266264       [IPR001189, IPR019832, IPR036324, IPR036314]   \n",
       "\n",
       "                                         exp_annotations  \\\n",
       "58593   [GO:0005763, GO:0005739, GO:0003735, GO:0032543]   \n",
       "62724  [GO:0009507, GO:0042644, GO:0042646, GO:000957...   \n",
       "62741                                       [GO:0004784]   \n",
       "\n",
       "                                        prop_annotations  cafa_target  \\\n",
       "58593  [GO:1901566, GO:1901576, GO:0044271, GO:004323...         True   \n",
       "62724  [GO:0005737, GO:0051716, GO:0043227, GO:000030...         True   \n",
       "62741  [GO:0051716, GO:0000305, GO:0019430, GO:001672...        False   \n",
       "\n",
       "                                                     esm  \\\n",
       "58593  [0.06308255, 0.0822591, -0.024374967, 0.066503...   \n",
       "62724  [-0.09370262, 0.19858178, -0.018441962, 0.0563...   \n",
       "62741  [-0.0472369, 0.04435269, -6.680077e-05, 0.0321...   \n",
       "\n",
       "                                                    esm2  \\\n",
       "58593  [-0.05179443, -0.0027887435, -0.06578646, -0.0...   \n",
       "62724  [-0.055271477, -0.022739667, -0.029521158, -0....   \n",
       "62741  [-0.068125404, -0.08426394, -0.1095703, -0.034...   \n",
       "\n",
       "                                                mf_preds  \n",
       "58593  [5.51395669390331e-06, 0.0015262124652508646, ...  \n",
       "62724  [5.719591513297928e-05, 0.008652074378915131, ...  \n",
       "62741  [2.7134405627293745e-05, 0.012835425324738026,...  "
      ]
     },
     "execution_count": 7,
     "metadata": {},
     "output_type": "execute_result"
    }
   ],
   "source": [
    "# 打印iprs_dict, terms_dict, train_data, valid_data, test_data, test_df，分别取前五个元素\n",
    "print('iprs_dict:')\n",
    "for k, v in iprs_dict.items():\n",
    "    print(k, v)\n",
    "    if v == 2:\n",
    "        break\n",
    "print(\"the length of iprs_dict: \", len(iprs_dict))\n",
    "print('terms_dict:')\n",
    "for k, v in terms_dict.items():\n",
    "    print(k, v)\n",
    "    if v == 2:\n",
    "        break\n",
    "print(\"the length of terms_dict: \", len(terms_dict))\n",
    "print(\"the shape of train_data: \", train_data[0].shape)\n",
    "print('valid_data:')\n",
    "print(valid_data[0][:3])\n",
    "print(\"the shape of valid_data: \", valid_data[0].shape)\n",
    "print(\"valid_data_labels:\")\n",
    "print(valid_data[1][:3])\n",
    "print(\"the shape of valid_data_labels: \", valid_data[1].shape)\n",
    "print(\"test_data:\")\n",
    "print(test_data[0][:3])\n",
    "print(\"the shape of test_data: \", test_data[0].shape)\n",
    "print(\"the shape of test_data_labels: \", test_data[1].shape)\n",
    "\n",
    "print(\"test_df:\")\n",
    "print(\"test_df-shape: \",test_df.shape)\n",
    "# # test_df前五行保存为excel文件\n",
    "# pd.DataFrame(test_df.head()).to_csv(\"test_df.csv\", index=False)\n",
    "test_df.head(3)"
   ]
  },
  {
   "cell_type": "code",
   "execution_count": null,
   "metadata": {},
   "outputs": [],
   "source": [
    "valid_features, valid_labels = valid_data"
   ]
  },
  {
   "cell_type": "code",
   "execution_count": null,
   "metadata": {},
   "outputs": [],
   "source": [
    "df=test_df.head()\n",
    "for i, row in enumerate(df.itertuples()):\n",
    "    print(\"row:\", row)\n",
    "    print(\"type(row):\", type(row))\n",
    "    print(\"row.prop_annotations:\", row.prop_annotations)\n",
    "    print(\"row.interpros:\", row.interpros)\n",
    "    if i == 2:\n",
    "        break"
   ]
  },
  {
   "cell_type": "code",
   "execution_count": null,
   "metadata": {},
   "outputs": [],
   "source": [
    "\n",
    "data = th.zeros((len(df), features_length), dtype=th.float32)\n",
    "labels = th.zeros((len(df), len(terms_dict)), dtype=th.float32)\n",
    "for i, row in enumerate(df.itertuples()):\n",
    "    # Data vector\n",
    "    if features_column == 'esm2':\n",
    "        data[i, :] = th.FloatTensor(row.esm2)\n",
    "    # Labels vector\n",
    "    for go_id in row.prop_annotations:\n",
    "        if go_id in terms_dict:\n",
    "            g_id = terms_dict[go_id]\n",
    "            labels[i, g_id] = 1"
   ]
  },
  {
   "cell_type": "code",
   "execution_count": null,
   "metadata": {},
   "outputs": [],
   "source": [
    "train_df = pd.read_pickle(f'{data_root}/{ont}/train_data.pkl')\n",
    "# 输出所有列名\n",
    "print(train_df.columns)\n",
    "train_df.head(3)"
   ]
  },
  {
   "cell_type": "code",
   "execution_count": null,
   "metadata": {},
   "outputs": [],
   "source": [
    "from deepgo.utils import Ontology, propagate_annots\n",
    "go_file = 'data/go.obo'\n",
    "# Load Gene Ontology and Normalized axioms\n",
    "go = Ontology(go_file, with_rels=True)\n",
    "print(\"go.ic:\",go.ic)\n",
    "print(\"go.ic_norm:\",go.ic_norm)\n",
    "print('go.ancestors:', go.ancestors)\n",
    "go.ont"
   ]
  },
  {
   "cell_type": "markdown",
   "metadata": {},
   "source": [
    "### 尝试加载gpt2激活数据来源"
   ]
  },
  {
   "cell_type": "code",
   "execution_count": 19,
   "metadata": {},
   "outputs": [
    {
     "data": {
      "text/plain": [
       "0"
      ]
     },
     "execution_count": 19,
     "metadata": {},
     "output_type": "execute_result"
    }
   ],
   "source": [
    "import pickle\n",
    "from datasets import Dataset\n",
    "import pandas as pd\n",
    "valid_df = pd.read_pickle('./data/bp/test_data.pkl')\n",
    "valid_df.head(3)\n",
    "# 看一下proteins列是否有重复数据\n",
    "valid_df['proteins'].duplicated().sum()"
   ]
  },
  {
   "cell_type": "code",
   "execution_count": 20,
   "metadata": {},
   "outputs": [
    {
     "name": "stdout",
     "output_type": "stream",
     "text": [
      "shape of df:  (3275, 2)\n"
     ]
    },
    {
     "data": {
      "text/html": [
       "<div>\n",
       "<style scoped>\n",
       "    .dataframe tbody tr th:only-of-type {\n",
       "        vertical-align: middle;\n",
       "    }\n",
       "\n",
       "    .dataframe tbody tr th {\n",
       "        vertical-align: top;\n",
       "    }\n",
       "\n",
       "    .dataframe thead th {\n",
       "        text-align: right;\n",
       "    }\n",
       "</style>\n",
       "<table border=\"1\" class=\"dataframe\">\n",
       "  <thead>\n",
       "    <tr style=\"text-align: right;\">\n",
       "      <th></th>\n",
       "      <th>Entry</th>\n",
       "      <th>Sequence</th>\n",
       "    </tr>\n",
       "  </thead>\n",
       "  <tbody>\n",
       "    <tr>\n",
       "      <th>58593</th>\n",
       "      <td>RT26_YEAST</td>\n",
       "      <td>MLVFKRGIHVVPKLPNSKALLQNGVPNILSSSGFKTVWFDYQRYLC...</td>\n",
       "    </tr>\n",
       "    <tr>\n",
       "      <th>62724</th>\n",
       "      <td>SODF3_ARATH</td>\n",
       "      <td>MSSCVVTTSCFYTISDSSIRLKSPKLLNLSNQQRRRSLRSRGGLKV...</td>\n",
       "    </tr>\n",
       "    <tr>\n",
       "      <th>62741</th>\n",
       "      <td>SODM_CUPMC</td>\n",
       "      <td>MLYEMKPLGCEPAKLTGLSEKLIFSHYENNYGGAVKRLNAITATLA...</td>\n",
       "    </tr>\n",
       "  </tbody>\n",
       "</table>\n",
       "</div>"
      ],
      "text/plain": [
       "             Entry                                           Sequence\n",
       "58593   RT26_YEAST  MLVFKRGIHVVPKLPNSKALLQNGVPNILSSSGFKTVWFDYQRYLC...\n",
       "62724  SODF3_ARATH  MSSCVVTTSCFYTISDSSIRLKSPKLLNLSNQQRRRSLRSRGGLKV...\n",
       "62741   SODM_CUPMC  MLYEMKPLGCEPAKLTGLSEKLIFSHYENNYGGAVKRLNAITATLA..."
      ]
     },
     "execution_count": 20,
     "metadata": {},
     "output_type": "execute_result"
    }
   ],
   "source": [
    "# 只取proteins,sequences两列\n",
    "valid_df = valid_df[['proteins',  'sequences']]\n",
    "# 修改sequences列名为Sequence,proteins列名为Entry\n",
    "valid_df.columns = ['Entry',  'Sequence']\n",
    "# Sequence列和accession列互换位置\n",
    "valid_df = valid_df[['Entry', 'Sequence']]\n",
    "\n",
    "print(\"shape of df: \", valid_df.shape)\n",
    "valid_df.head(3)"
   ]
  },
  {
   "cell_type": "code",
   "execution_count": 21,
   "metadata": {},
   "outputs": [
    {
     "name": "stdout",
     "output_type": "stream",
     "text": [
      "Dataset({\n",
      "    features: ['Entry', 'Sequence', '__index_level_0__'],\n",
      "    num_rows: 3275\n",
      "})\n"
     ]
    }
   ],
   "source": [
    "# 保存为csv和tsv文件\n",
    "valid_df.to_csv('../Get_activate/ctrlprot_dataset/process/test0.csv', index=False)\n",
    "# valid_df.to_csv('../Get_activate/ctrlprot_dataset/function/0.tsv', sep='\\t', index=False)\n",
    "\n",
    "# 假设加载的数据是一个字典列表（可以根据你的数据结构调整）\n",
    "# 将其转换为 Hugging Face dataset 格式\n",
    "dataset = Dataset.from_pandas(valid_df)\n",
    "\n",
    "# 查看数据集\n",
    "print(dataset)"
   ]
  },
  {
   "cell_type": "markdown",
   "metadata": {},
   "source": [
    "### 看一下mf和cc有无重合的蛋白质"
   ]
  },
  {
   "cell_type": "code",
   "execution_count": 23,
   "metadata": {},
   "outputs": [
    {
     "data": {
      "text/plain": [
       "39691    MRT2_CAEEL\n",
       "47190    PCNA_YEAST\n",
       "47188    PCNA_SCHPO\n",
       "Name: proteins, dtype: object"
      ]
     },
     "execution_count": 23,
     "metadata": {},
     "output_type": "execute_result"
    }
   ],
   "source": [
    "import pickle\n",
    "from datasets import Dataset\n",
    "import pandas as pd\n",
    "cc_train_df = pd.read_pickle('./data/cc/train_data.pkl')\n",
    "mf_train_df = pd.read_pickle('./data/mf/train_data.pkl')\n",
    "mf_train_df = mf_train_df['proteins']\n",
    "cc_train_df = cc_train_df['proteins']\n",
    "cc_train_df.head(3)"
   ]
  },
  {
   "cell_type": "code",
   "execution_count": 24,
   "metadata": {},
   "outputs": [],
   "source": [
    "#将cc_train_df和mf_train_df的数据保存到集合中\n",
    "cc_train_set = set(cc_train_df)\n",
    "mf_train_set = set(mf_train_df)"
   ]
  },
  {
   "cell_type": "code",
   "execution_count": 25,
   "metadata": {},
   "outputs": [
    {
     "data": {
      "text/plain": [
       "25985"
      ]
     },
     "execution_count": 25,
     "metadata": {},
     "output_type": "execute_result"
    }
   ],
   "source": [
    "# 看这两个集合中是否有相同的元素，输出相同元素数目\n",
    "len(cc_train_set & mf_train_set)"
   ]
  },
  {
   "cell_type": "code",
   "execution_count": null,
   "metadata": {},
   "outputs": [
    {
     "data": {
      "text/plain": [
       "34424"
      ]
     },
     "execution_count": 26,
     "metadata": {},
     "output_type": "execute_result"
    }
   ],
   "source": [
    "\n",
    "bp_train_df = pd.read_pickle('./data/bp/train_data.pkl')\n",
    "bp_train_df = bp_train_df['proteins']\n",
    "bp_train_set = set(bp_train_df)"
   ]
  },
  {
   "cell_type": "code",
   "execution_count": null,
   "metadata": {},
   "outputs": [
    {
     "name": "stdout",
     "output_type": "stream",
     "text": [
      "30758\n",
      "34424\n"
     ]
    }
   ],
   "source": [
    "\n",
    "print(len(mf_train_set & bp_train_set))\n",
    "print(len(cc_train_set & bp_train_set))"
   ]
  },
  {
   "cell_type": "markdown",
   "metadata": {},
   "source": [
    "### 进行类别合并和转换"
   ]
  },
  {
   "cell_type": "code",
   "execution_count": null,
   "metadata": {},
   "outputs": [],
   "source": [
    "import pandas as pd\n",
    "import torch as th\n",
    "bp_test_data = pd.read_pickle('./data/bp/test_data.pkl')\n",
    "cc_test_data = pd.read_pickle('./data/cc/test_data.pkl')\n",
    "mf_test_data = pd.read_pickle('./data/mf/test_data.pkl')\n",
    "cc_test_data.head(3)"
   ]
  },
  {
   "cell_type": "code",
   "execution_count": null,
   "metadata": {},
   "outputs": [],
   "source": [
    "mf_test_data.head(3)"
   ]
  },
  {
   "cell_type": "code",
   "execution_count": null,
   "metadata": {},
   "outputs": [],
   "source": [
    "terms_file = './data/bp/terms.pkl'\n",
    "terms_df = pd.read_pickle(terms_file)\n",
    "terms_df\n"
   ]
  },
  {
   "cell_type": "code",
   "execution_count": null,
   "metadata": {},
   "outputs": [],
   "source": [
    "terms = terms_df['gos'].values.flatten()\n",
    "terms_dict = {v: i for i, v in enumerate(terms)}\n",
    "terms_dict"
   ]
  },
  {
   "cell_type": "code",
   "execution_count": 11,
   "metadata": {},
   "outputs": [
    {
     "name": "stdout",
     "output_type": "stream",
     "text": [
      "Binary Cross Entropy Loss: 100.0\n"
     ]
    }
   ],
   "source": [
    "import torch\n",
    "import torch.nn.functional as F\n",
    "\n",
    "# 模拟模型的输出（经过 Sigmoid 激活函数后的概率值）\n",
    "input = torch.tensor([0], dtype=torch.float32)\n",
    "\n",
    "# 实际标签\n",
    "target = torch.tensor([1], dtype=torch.float32)\n",
    "\n",
    "# 计算二元交叉熵损失\n",
    "loss = F.binary_cross_entropy(input, target)\n",
    "\n",
    "print(f'Binary Cross Entropy Loss: {loss.item()}')"
   ]
  }
 ],
 "metadata": {
  "kernelspec": {
   "display_name": "xyliuEnv",
   "language": "python",
   "name": "python3"
  },
  "language_info": {
   "codemirror_mode": {
    "name": "ipython",
    "version": 3
   },
   "file_extension": ".py",
   "mimetype": "text/x-python",
   "name": "python",
   "nbconvert_exporter": "python",
   "pygments_lexer": "ipython3",
   "version": "3.8.12"
  }
 },
 "nbformat": 4,
 "nbformat_minor": 2
}
